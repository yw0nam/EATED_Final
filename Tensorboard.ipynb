{
 "cells": [
  {
   "cell_type": "code",
   "execution_count": 1,
   "metadata": {},
   "outputs": [
    {
     "name": "stderr",
     "output_type": "stream",
     "text": [
      "C:\\Anaconda-python\\lib\\site-packages\\h5py\\__init__.py:36: FutureWarning: Conversion of the second argument of issubdtype from `float` to `np.floating` is deprecated. In future, it will be treated as `np.float64 == np.dtype(float).type`.\n",
      "  from ._conv import register_converters as _register_converters\n"
     ]
    }
   ],
   "source": [
    "import tensorflow as tf\n",
    "import numpy as np\n",
    "import matplotlib.pyplot as plt\n",
    "from PIL import Image\n",
    "from glob import glob\n",
    "from skimage import color\n",
    "from skimage import io\n",
    "import matplotlib.cm as cm\n",
    "from scipy.misc import imresize\n",
    "from scipy.ndimage.filters import gaussian_filter\n",
    "import cv2"
   ]
  },
  {
   "cell_type": "code",
   "execution_count": 2,
   "metadata": {},
   "outputs": [
    {
     "name": "stdout",
     "output_type": "stream",
     "text": [
      "Extracting ../MNIST_datxa/train-images-idx3-ubyte.gz\n",
      "Extracting ../MNIST_datxa/train-labels-idx1-ubyte.gz\n",
      "Extracting ../MNIST_datxa/t10k-images-idx3-ubyte.gz\n",
      "Extracting ../MNIST_datxa/t10k-labels-idx1-ubyte.gz\n"
     ]
    }
   ],
   "source": [
    "#mnist 만으로 학습시킨 모델\n",
    "from tensorflow.examples.tutorials.mnist import input_data\n",
    "mnist = input_data.read_data_sets(\"../MNIST_datxa/\", one_hot=True)"
   ]
  },
  {
   "cell_type": "code",
   "execution_count": 3,
   "metadata": {},
   "outputs": [],
   "source": [
    "hnd_train = glob('../../Datas/letter/Hnd/Digit/train/*/*')\n",
    "hnd_test = glob('../../Datas/letter/Hnd/Digit/test/*/*')\n",
    "real_train = glob('../../Datas/letter/EnglishImg/English/Img/GoodImg/English_image/Digit/train/*/*')\n",
    "real_test = glob('../../Datas/letter/EnglishImg/English/Img/GoodImg/English_image/Digit/test/*/*')"
   ]
  },
  {
   "cell_type": "code",
   "execution_count": 5,
   "metadata": {},
   "outputs": [],
   "source": [
    "def get_label_from_path(path):\n",
    "    return (int(path.split('\\\\')[-2]))\n",
    "\n",
    "def read_image(path):\n",
    "    img = cv2.imread(path) # read the image from the path\n",
    "    img = cv2.GaussianBlur(img, (5, 5), 0)\n",
    "    gray = cv2.cvtColor(img,cv2.COLOR_BGR2GRAY) # make gray\n",
    "    gray_mean = np.mean(gray)\n",
    "    ret,thresh = cv2.threshold(gray,gray_mean,255,cv2.THRESH_BINARY_INV +cv2.THRESH_OTSU )  #make binary\n",
    "    kernel = np.ones((1,1), np.uint8) \n",
    "    img_dilation = cv2.morphologyEx(thresh, cv2.MORPH_CLOSE, kernel) #to get more clear image\n",
    "    im2,ctrs, hier = cv2.findContours(img_dilation.copy(), cv2.RETR_EXTERNAL, cv2.CHAIN_APPROX_SIMPLE) #find contours\n",
    "    x, y, w, h = cv2.boundingRect(ctrs[0]) # make rectangle following out line\n",
    "    if h > w:\n",
    "        x -= (h - w)//2\n",
    "        w += (h - w)\n",
    "    elif h < w:\n",
    "        y -= (w - h)//2\n",
    "        h += (w - h)\n",
    "    roi = img_dilation[y:y+h, x:x+w]\n",
    "    roi_resized = imresize(roi, (28, 28)).reshape(784)\n",
    "    roi_resized = np.array(roi_resized, dtype= np.float32)\n",
    "    for i in range(len(roi_resized)):\n",
    "        roi_resized[i] /= 255\n",
    "    return roi_resized\n",
    "\n",
    "\n",
    "def read_image_not_roi(path):\n",
    "    img = cv2.imread(path) # read the image from the path\n",
    "    img = cv2.GaussianBlur(img, (5, 5), 0)\n",
    "    gray = cv2.cvtColor(img,cv2.COLOR_BGR2GRAY) # make gray\n",
    "    gray_mean = np.mean(gray)\n",
    "    ret,thresh = cv2.threshold(gray,gray_mean,255,cv2.THRESH_BINARY_INV +cv2.THRESH_OTSU )  #make binary\n",
    "    kernel = np.ones((1,1), np.uint8) \n",
    "    img_dilation = cv2.morphologyEx(thresh, cv2.MORPH_CLOSE, kernel) #to get more clear image\n",
    "    if(num_dict[255] >= num_dict[0]):\n",
    "        ret,img_dilation = cv2.threshold(img_dilation,gray_mean,255,cv2.THRESH_BINARY_INV +cv2.THRESH_OTSU )\n",
    "    image = imresize(img_dilation, (28, 28)).reshape(784)\n",
    "    image = np.array(image, dtype= np.float32)\n",
    "    for i in range(len(image)):\n",
    "        image[i] /= 255\n",
    "    return image\n",
    "\n",
    "path = hnd_train[2]\n",
    "\n",
    "path, get_label_from_path(path)\n",
    "class_name = get_label_from_path(path)\n",
    "\n",
    "label_name_list_train = []\n",
    "\n",
    "for path in hnd_train:\n",
    "    label_name_list_train.append(get_label_from_path(path))\n",
    "\n",
    "    \n",
    "unique_label_names = np.unique(label_name_list_train)\n",
    "\n",
    "def onehot_encode_label(path):\n",
    "    onehot_label = unique_label_names == get_label_from_path(path)\n",
    "    onehot_label = onehot_label.astype(np.uint8)\n",
    "    return onehot_label"
   ]
  },
  {
   "cell_type": "code",
   "execution_count": 6,
   "metadata": {},
   "outputs": [
    {
     "data": {
      "text/plain": [
       "array([0, 0, 0, 0, 0, 0, 0, 0, 0, 1], dtype=uint8)"
      ]
     },
     "execution_count": 6,
     "metadata": {},
     "output_type": "execute_result"
    }
   ],
   "source": [
    "onehot_encode_label(path)"
   ]
  },
  {
   "cell_type": "code",
   "execution_count": 7,
   "metadata": {},
   "outputs": [],
   "source": [
    "def make_dataset(image_shape, label_shape, path_images):\n",
    "    initial_image_array = np.zeros([len(path_images),image_shape])\n",
    "    initial_label_array = np.zeros([len(path_images),label_shape])\n",
    "    for n, path in enumerate(path_images):\n",
    "        image = read_image(path)\n",
    "        onehot_label = onehot_encode_label(path)\n",
    "        initial_image_array[n, :] = image\n",
    "        initial_label_array[n, :] = onehot_label\n",
    "    return initial_image_array, initial_label_array\n",
    "\n",
    "def make_dataset_real(image_shape, label_shape, path_images):\n",
    "    initial_image_array = np.zeros([len(path_images),image_shape])\n",
    "    initial_label_array = np.zeros([len(path_images),label_shape])\n",
    "    for n, path in enumerate(path_images):\n",
    "        image = read_image_not_roi(path)\n",
    "        onehot_label = onehot_encode_label(path)\n",
    "        initial_image_array[n, :] = image\n",
    "        initial_label_array[n, :] = onehot_label\n",
    "    return initial_image_array, initial_label_array"
   ]
  },
  {
   "cell_type": "code",
   "execution_count": 8,
   "metadata": {},
   "outputs": [
    {
     "name": "stderr",
     "output_type": "stream",
     "text": [
      "C:\\Anaconda-python\\lib\\site-packages\\ipykernel_launcher.py:91: DeprecationWarning: `imresize` is deprecated!\n",
      "`imresize` is deprecated in SciPy 1.0.0, and will be removed in 1.2.0.\n",
      "Use ``skimage.transform.resize`` instead.\n"
     ]
    }
   ],
   "source": [
    "data_train_images_hnd, data_train_labels_hnd = make_dataset(784, 10, hnd_train)\n",
    "data_test_images_hnd, data_test_labels_hnd = make_dataset(784, 10, hnd_test)"
   ]
  },
  {
   "cell_type": "code",
   "execution_count": 9,
   "metadata": {},
   "outputs": [
    {
     "name": "stderr",
     "output_type": "stream",
     "text": [
      "C:\\Anaconda-python\\lib\\site-packages\\ipykernel_launcher.py:106: DeprecationWarning: `imresize` is deprecated!\n",
      "`imresize` is deprecated in SciPy 1.0.0, and will be removed in 1.2.0.\n",
      "Use ``skimage.transform.resize`` instead.\n"
     ]
    }
   ],
   "source": [
    "data_test_images_real, data_test_labels_real = make_dataset_real(784, 10, real_test)\n",
    "data_train_images_real, data_train_labels_real =make_dataset_real(784, 10, real_train)"
   ]
  },
  {
   "cell_type": "code",
   "execution_count": 10,
   "metadata": {},
   "outputs": [],
   "source": [
    "learning_rate = 0.001\n",
    "training_epochs = 15\n",
    "batch_size = 100\n"
   ]
  },
  {
   "cell_type": "markdown",
   "metadata": {},
   "source": [
    "# The model trained with hand data\n",
    "\n",
    "# tensorboard.ver"
   ]
  },
  {
   "cell_type": "code",
   "execution_count": 13,
   "metadata": {},
   "outputs": [
    {
     "name": "stdout",
     "output_type": "stream",
     "text": [
      "hand write data training start\n",
      "step: 0, cost: Tensor(\"Mean:0\", shape=(), dtype=float32)\n",
      "step: 100, cost: Tensor(\"Mean:0\", shape=(), dtype=float32)\n",
      "step: 200, cost: Tensor(\"Mean:0\", shape=(), dtype=float32)\n",
      "step: 300, cost: Tensor(\"Mean:0\", shape=(), dtype=float32)\n",
      "step: 400, cost: Tensor(\"Mean:0\", shape=(), dtype=float32)\n",
      "Learning Finished!\n",
      "Accuracy: 0.9727273\n"
     ]
    }
   ],
   "source": [
    "tf.reset_default_graph()\n",
    "\n",
    "X = tf.placeholder(tf.float32, [None, 784])\n",
    "Y = tf.placeholder(tf.int8, [None, 10])\n",
    "keep_prob = tf.placeholder(tf.float32)\n",
    "\n",
    "TB_SUMMARY_DIR = './tb/mnist'\n",
    "\n",
    "with tf.variable_scope('layer1') as scope:\n",
    "    W1 = tf.get_variable(\"W\", shape=[784, 512],\n",
    "                         initializer=tf.contrib.layers.xavier_initializer())\n",
    "    b1 = tf.Variable(tf.random_normal([512]))\n",
    "    L1 = tf.nn.relu(tf.matmul(X, W1) + b1)\n",
    "    L1 = tf.nn.dropout(L1, keep_prob=keep_prob)\n",
    "\n",
    "    tf.summary.histogram(\"X\", X)\n",
    "    tf.summary.histogram(\"weights\", W1)\n",
    "    tf.summary.histogram(\"bias\", b1)\n",
    "    tf.summary.histogram(\"layer\", L1)\n",
    "\n",
    "with tf.variable_scope('layer2') as scope:\n",
    "    W2 = tf.get_variable(\"W\", shape=[512, 256],\n",
    "                         initializer=tf.contrib.layers.xavier_initializer())\n",
    "    b2 = tf.Variable(tf.random_normal([256]))\n",
    "    L2 = tf.nn.relu(tf.matmul(L1, W2) + b2)\n",
    "    L2 = tf.nn.dropout(L2, keep_prob=keep_prob)\n",
    "\n",
    "    tf.summary.histogram(\"weights\", W2)\n",
    "    tf.summary.histogram(\"bias\", b2)\n",
    "    tf.summary.histogram(\"layer\", L2)\n",
    "\n",
    "with tf.variable_scope('layer3') as scope:\n",
    "    W3 = tf.get_variable(\"W\", shape=[256, 128],\n",
    "                         initializer=tf.contrib.layers.xavier_initializer())\n",
    "    b3 = tf.Variable(tf.random_normal([128]))\n",
    "    L3 = tf.nn.relu(tf.matmul(L2, W3) + b3)\n",
    "    L3 = tf.nn.dropout(L3, keep_prob=keep_prob)\n",
    "\n",
    "    tf.summary.histogram(\"weights\", W3)\n",
    "    tf.summary.histogram(\"bias\", b3)\n",
    "    tf.summary.histogram(\"layer\", L3)\n",
    "\n",
    "with tf.variable_scope('layer4') as scope:\n",
    "    W4 = tf.get_variable(\"W\", shape=[128, 64],\n",
    "                         initializer=tf.contrib.layers.xavier_initializer())\n",
    "    b4 = tf.Variable(tf.random_normal([64]))\n",
    "    L4 = tf.nn.relu(tf.matmul(L3, W4) + b4)\n",
    "    L4 = tf.nn.dropout(L4, keep_prob=keep_prob)\n",
    "\n",
    "    tf.summary.histogram(\"weights\", W4)\n",
    "    tf.summary.histogram(\"bias\", b4)\n",
    "    tf.summary.histogram(\"layer\", L4)\n",
    "\n",
    "with tf.variable_scope('layer5') as scope:\n",
    "    W5 = tf.get_variable(\"W\", shape=[64, 10],\n",
    "                         initializer=tf.contrib.layers.xavier_initializer())\n",
    "    b5 = tf.Variable(tf.random_normal([10]))\n",
    "    hypothesis = tf.matmul(L4, W5) + b5\n",
    "\n",
    "    tf.summary.histogram(\"weights\", W5)\n",
    "    tf.summary.histogram(\"bias\", b5)\n",
    "    tf.summary.histogram(\"hypothesis\", hypothesis)\n",
    "\n",
    "cost = tf.reduce_mean(tf.nn.softmax_cross_entropy_with_logits(\n",
    "    logits=hypothesis, labels=Y))\n",
    "optimizer = tf.train.AdamOptimizer(learning_rate=learning_rate).minimize(cost)\n",
    "\n",
    "tf.summary.scalar(\"loss\", cost)\n",
    "summary = tf.summary.merge_all()\n",
    "\n",
    "sess = tf.Session()\n",
    "sess.run(tf.global_variables_initializer())\n",
    "\n",
    "writer = tf.summary.FileWriter(TB_SUMMARY_DIR)\n",
    "writer.add_graph(sess.graph)\n",
    "global_step = 0\n",
    "\n",
    "print('hand write data training start')\n",
    "for i in range(len(hnd_train)):\n",
    "    feed_dict = {X: data_train_images_hnd, Y: data_train_labels_hnd, keep_prob:0.7}\n",
    "    s, _ = sess.run([summary, optimizer], feed_dict=feed_dict)\n",
    "    writer.add_summary(s, global_step=global_step)\n",
    "    global_step += 1\n",
    "    if i % 100 == 0:\n",
    "        print('step: {0}, cost: {1}'.format(i, cost))\n",
    "print('Learning Finished!')\n",
    "\n",
    "correct_prediction = tf.equal(tf.argmax(hypothesis, 1), tf.argmax(Y, 1))\n",
    "accuracy = tf.reduce_mean(tf.cast(correct_prediction, tf.float32))\n",
    "print('Accuracy:', sess.run(accuracy, feed_dict={\n",
    "      X: data_test_images_hnd, Y: data_test_labels_hnd, keep_prob: 1}))"
   ]
  },
  {
   "cell_type": "code",
   "execution_count": 14,
   "metadata": {},
   "outputs": [
    {
     "name": "stdout",
     "output_type": "stream",
     "text": [
      "Accuracy: 0.2131\n"
     ]
    }
   ],
   "source": [
    "#mnist data's accuracy and  real image data's accuracy\n",
    "correct_prediction = tf.equal(tf.argmax(hypothesis, 1), tf.argmax(Y, 1))\n",
    "accuracy = tf.reduce_mean(tf.cast(correct_prediction, tf.float32))\n",
    "print('Accuracy:', sess.run(accuracy, feed_dict={\n",
    "      X: mnist.test.images, Y: mnist.test.labels, keep_prob: 1}))\n"
   ]
  },
  {
   "cell_type": "code",
   "execution_count": 15,
   "metadata": {},
   "outputs": [
    {
     "name": "stdout",
     "output_type": "stream",
     "text": [
      "Accuracy: 0.16891892\n"
     ]
    }
   ],
   "source": [
    "correct_prediction = tf.equal(tf.argmax(hypothesis, 1), tf.argmax(Y, 1))\n",
    "accuracy = tf.reduce_mean(tf.cast(correct_prediction, tf.float32))\n",
    "print('Accuracy:', sess.run(accuracy, feed_dict={\n",
    "      X: data_test_images_real, Y: data_test_labels_real, keep_prob: 1}))\n"
   ]
  }
 ],
 "metadata": {
  "kernelspec": {
   "display_name": "Python 3",
   "language": "python",
   "name": "python3"
  },
  "language_info": {
   "codemirror_mode": {
    "name": "ipython",
    "version": 3
   },
   "file_extension": ".py",
   "mimetype": "text/x-python",
   "name": "python",
   "nbconvert_exporter": "python",
   "pygments_lexer": "ipython3",
   "version": "3.6.4"
  }
 },
 "nbformat": 4,
 "nbformat_minor": 2
}
