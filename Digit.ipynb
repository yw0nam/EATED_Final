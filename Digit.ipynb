{
 "cells": [
  {
   "cell_type": "code",
   "execution_count": 1,
   "metadata": {},
   "outputs": [
    {
     "name": "stderr",
     "output_type": "stream",
     "text": [
      "C:\\Anaconda-python\\lib\\site-packages\\h5py\\__init__.py:36: FutureWarning: Conversion of the second argument of issubdtype from `float` to `np.floating` is deprecated. In future, it will be treated as `np.float64 == np.dtype(float).type`.\n",
      "  from ._conv import register_converters as _register_converters\n"
     ]
    }
   ],
   "source": [
    "import tensorflow as tf\n",
    "import numpy as np\n",
    "import matplotlib.pyplot as plt\n",
    "from PIL import Image\n",
    "from glob import glob\n",
    "from skimage import color\n",
    "from skimage import io\n",
    "import matplotlib.cm as cm\n",
    "from scipy.misc import imresize\n",
    "from scipy.ndimage.filters import gaussian_filter\n",
    "import cv2"
   ]
  },
  {
   "cell_type": "code",
   "execution_count": 2,
   "metadata": {},
   "outputs": [
    {
     "name": "stdout",
     "output_type": "stream",
     "text": [
      "Extracting ../MNIST_datxa/train-images-idx3-ubyte.gz\n",
      "Extracting ../MNIST_datxa/train-labels-idx1-ubyte.gz\n",
      "Extracting ../MNIST_datxa/t10k-images-idx3-ubyte.gz\n",
      "Extracting ../MNIST_datxa/t10k-labels-idx1-ubyte.gz\n"
     ]
    }
   ],
   "source": [
    "from tensorflow.examples.tutorials.mnist import input_data\n",
    "mnist = input_data.read_data_sets(\"../MNIST_datxa/\", one_hot=True)"
   ]
  },
  {
   "cell_type": "code",
   "execution_count": 3,
   "metadata": {},
   "outputs": [],
   "source": [
    "#make data path to list\n",
    "hnd_train = glob('../../Datas/letter/Hnd/Digit/train/*/*')\n",
    "hnd_test = glob('../../Datas/letter/Hnd/Digit/test/*/*')\n",
    "real_train = glob('../../Datas/letter/EnglishImg/English/Img/GoodImg/English_image/Digit/train/*/*')\n",
    "real_test = glob('../../Datas/letter/EnglishImg/English/Img/GoodImg/English_image/Digit/test/*/*')"
   ]
  },
  {
   "cell_type": "code",
   "execution_count": 7,
   "metadata": {},
   "outputs": [],
   "source": [
    "#get label from the path\n",
    "def get_label_from_path(path):\n",
    "    return (int(path.split('\\\\')[-2]))\n",
    "\n",
    "#Read images and pre-processing\n",
    "\n",
    "def read_image(path):\n",
    "    img = cv2.imread(path) # read the image from the path\n",
    "    img = cv2.GaussianBlur(img, (5, 5), 0)\n",
    "    gray = cv2.cvtColor(img,cv2.COLOR_BGR2GRAY) # make gray\n",
    "    gray_mean = np.mean(gray)\n",
    "    ret,thresh = cv2.threshold(gray,gray_mean,255,cv2.THRESH_BINARY_INV +cv2.THRESH_OTSU )  #make binary\n",
    "    kernel = np.ones((1,1), np.uint8) \n",
    "    img_dilation = cv2.morphologyEx(thresh, cv2.MORPH_CLOSE, kernel) #to get more clear image\n",
    "    im2,ctrs, hier = cv2.findContours(img_dilation.copy(), cv2.RETR_EXTERNAL, cv2.CHAIN_APPROX_SIMPLE) #find contours\n",
    "    x, y, w, h = cv2.boundingRect(ctrs[0]) # make rectangle following out line\n",
    "    if h > w:\n",
    "        x -= (h - w)//2\n",
    "        w += (h - w)\n",
    "    elif h < w:\n",
    "        y -= (w - h)//2\n",
    "        h += (w - h)\n",
    "    roi = img_dilation[y:y+h, x:x+w]\n",
    "    roi_resized = imresize(roi, (28, 28)).reshape(784)\n",
    "    roi_resized = np.array(roi_resized, dtype= np.float32)\n",
    "    for i in range(len(roi_resized)):\n",
    "        roi_resized[i] /= 255\n",
    "    return roi_resized\n",
    "\n",
    "#Read the images don't need to ROI,\n",
    "def read_image_not_roi(path):\n",
    "    img = cv2.imread(path) # read the image from the path\n",
    "    img = cv2.GaussianBlur(img, (5, 5), 0)\n",
    "    gray = cv2.cvtColor(img,cv2.COLOR_BGR2GRAY) # make gray\n",
    "    gray_mean = np.mean(gray)\n",
    "    ret,thresh = cv2.threshold(gray,gray_mean,255,cv2.THRESH_BINARY_INV +cv2.THRESH_OTSU )  #make binary\n",
    "    kernel = np.ones((1,1), np.uint8) \n",
    "    img_dilation = cv2.morphologyEx(thresh, cv2.MORPH_CLOSE, kernel) #to get more clear image\n",
    "    unique, counts = np.unique(img_dilation, return_counts = True)\n",
    "    num_dict = dict(zip(unique, counts))\n",
    "    if(num_dict[255] >= num_dict[0]):\n",
    "        ret,img_dilation = cv2.threshold(img_dilation,gray_mean,255,cv2.THRESH_BINARY_INV +cv2.THRESH_OTSU )\n",
    "    image = imresize(img_dilation, (28, 28)).reshape(784)\n",
    "    image = np.array(image, dtype= np.float32)\n",
    "    for i in range(len(image)):\n",
    "        image[i] /= 255\n",
    "    return image\n",
    "\n",
    "#make label as a list\n",
    "path = hnd_train[2]\n",
    "path, get_label_from_path(path)\n",
    "class_name = get_label_from_path(path)\n",
    "label_name_list_train = []\n",
    "\n",
    "for path in hnd_train:\n",
    "    label_name_list_train.append(get_label_from_path(path))\n",
    "\n",
    "    \n",
    "unique_label_names = np.unique(label_name_list_train)\n",
    "\n",
    "#onehot encoding\n",
    "def onehot_encode_label(path):\n",
    "    onehot_label = unique_label_names == get_label_from_path(path)\n",
    "    onehot_label = onehot_label.astype(np.uint8)\n",
    "    return onehot_label"
   ]
  },
  {
   "cell_type": "code",
   "execution_count": 8,
   "metadata": {},
   "outputs": [
    {
     "data": {
      "text/plain": [
       "array([0, 0, 0, 0, 0, 0, 0, 0, 0, 1], dtype=uint8)"
      ]
     },
     "execution_count": 8,
     "metadata": {},
     "output_type": "execute_result"
    }
   ],
   "source": [
    "onehot_encode_label(path)"
   ]
  },
  {
   "cell_type": "code",
   "execution_count": 9,
   "metadata": {},
   "outputs": [],
   "source": [
    "#Unite the images to one dataset\n",
    "\n",
    "def make_dataset(image_shape, label_shape, path_images):\n",
    "    initial_image_array = np.zeros([len(path_images),image_shape])\n",
    "    initial_label_array = np.zeros([len(path_images),label_shape])\n",
    "    for n, path in enumerate(path_images):\n",
    "        image = read_image(path)\n",
    "        onehot_label = onehot_encode_label(path)\n",
    "        initial_image_array[n, :] = image\n",
    "        initial_label_array[n, :] = onehot_label\n",
    "    return initial_image_array, initial_label_array\n",
    "\n",
    "def make_dataset_real(image_shape, label_shape, path_images):\n",
    "    initial_image_array = np.zeros([len(path_images),image_shape])\n",
    "    initial_label_array = np.zeros([len(path_images),label_shape])\n",
    "    for n, path in enumerate(path_images):\n",
    "        image = read_image_not_roi(path)\n",
    "        onehot_label = onehot_encode_label(path)\n",
    "        initial_image_array[n, :] = image\n",
    "        initial_label_array[n, :] = onehot_label\n",
    "    return initial_image_array, initial_label_array"
   ]
  },
  {
   "cell_type": "code",
   "execution_count": 10,
   "metadata": {},
   "outputs": [
    {
     "name": "stderr",
     "output_type": "stream",
     "text": [
      "C:\\Anaconda-python\\lib\\site-packages\\ipykernel_launcher.py:21: DeprecationWarning: `imresize` is deprecated!\n",
      "`imresize` is deprecated in SciPy 1.0.0, and will be removed in 1.2.0.\n",
      "Use ``skimage.transform.resize`` instead.\n"
     ]
    }
   ],
   "source": [
    "data_train_images_hnd, data_train_labels_hnd = make_dataset(784, 10, hnd_train)\n",
    "data_test_images_hnd, data_test_labels_hnd = make_dataset(784, 10, hnd_test)"
   ]
  },
  {
   "cell_type": "code",
   "execution_count": 11,
   "metadata": {},
   "outputs": [
    {
     "name": "stderr",
     "output_type": "stream",
     "text": [
      "C:\\Anaconda-python\\lib\\site-packages\\ipykernel_launcher.py:40: DeprecationWarning: `imresize` is deprecated!\n",
      "`imresize` is deprecated in SciPy 1.0.0, and will be removed in 1.2.0.\n",
      "Use ``skimage.transform.resize`` instead.\n"
     ]
    }
   ],
   "source": [
    "data_test_images_real, data_test_labels_real = make_dataset_real(784, 10, real_test)\n",
    "data_train_images_real, data_train_labels_real =make_dataset_real(784, 10, real_train)"
   ]
  },
  {
   "cell_type": "markdown",
   "metadata": {},
   "source": [
    "# The model trained with hand writing dataset"
   ]
  },
  {
   "cell_type": "code",
   "execution_count": 20,
   "metadata": {},
   "outputs": [],
   "source": [
    "learning_rate = 0.001\n",
    "training_epochs = 15\n",
    "batch_size = 100\n"
   ]
  },
  {
   "cell_type": "code",
   "execution_count": 28,
   "metadata": {},
   "outputs": [
    {
     "name": "stdout",
     "output_type": "stream",
     "text": [
      "hand write data training start\n",
      "step: 0, cost: 3.950756549835205\n",
      "step: 100, cost: 0.036300428211688995\n",
      "step: 200, cost: 0.0060258349403738976\n",
      "step: 300, cost: 0.0169266015291214\n",
      "step: 400, cost: 0.0016593559412285686\n",
      "Learning Finished!\n",
      "Accuracy: 0.96363634\n"
     ]
    }
   ],
   "source": [
    "#hand writing dataset 으로만 학습시킨 데이터\n",
    "\n",
    "tf.reset_default_graph()\n",
    "\n",
    "X = tf.placeholder(tf.float32, [None, 784])\n",
    "Y = tf.placeholder(tf.int8, [None, 10])\n",
    "keep_prob = tf.placeholder(tf.float32)\n",
    "\n",
    "W1 = tf.get_variable(\"W1\", shape= [784, 512],\n",
    "                     initializer= tf.contrib.layers.xavier_initializer())\n",
    "b1 = tf.Variable(tf.random_normal([512]))\n",
    "L1 = tf.nn.relu(tf.matmul(X, W1) + b1)\n",
    "L1 = tf.nn.dropout(L1, keep_prob = keep_prob)\n",
    "\n",
    "W2 = tf.get_variable(\"W2\", shape= [512, 256],\n",
    "                     initializer= tf.contrib.layers.xavier_initializer())\n",
    "b2 = tf.Variable(tf.random_normal([256]))\n",
    "L2 = tf.nn.relu(tf.matmul(L1, W2) + b2)\n",
    "L2 = tf.nn.dropout(L2, keep_prob= keep_prob)\n",
    "\n",
    "W3 = tf.get_variable(\"W3\", shape= [256, 128],\n",
    "                     initializer= tf.contrib.layers.xavier_initializer())\n",
    "b3 = tf.Variable(tf.random_normal([128]))\n",
    "L3 = tf.nn.relu(tf.matmul(L2, W3) + b3)\n",
    "L3 = tf.nn.dropout(L3, keep_prob= keep_prob)\n",
    "\n",
    "W4 = tf.get_variable(\"W4\" ,shape= [128, 64],\n",
    "                     initializer= tf.contrib.layers.xavier_initializer())\n",
    "b4 = tf.Variable(tf.random_normal([64]))\n",
    "L4 = tf.nn.relu(tf.matmul(L3, W4) + b4)\n",
    "L4 = tf.nn.dropout(L4, keep_prob= keep_prob)\n",
    "\n",
    "W5 = tf.get_variable(\"W5\" ,shape= [64, 10],\n",
    "                     initializer= tf.contrib.layers.xavier_initializer())\n",
    "b5 = tf.Variable(tf.random_normal([10]))\n",
    "hypothesis = tf.matmul(L4, W5) + b5\n",
    "\n",
    "cost = tf.reduce_mean(tf.nn.softmax_cross_entropy_with_logits(\n",
    "    logits=hypothesis, labels=Y))\n",
    "optimizer = tf.train.AdamOptimizer(learning_rate=learning_rate).minimize(cost)\n",
    "\n",
    "sess = tf.Session()\n",
    "sess.run(tf.global_variables_initializer())\n",
    "\n",
    "print('hand write data training start')\n",
    "for i in range(len(hnd_train)):\n",
    "    feed_dict = {X: data_train_images_hnd, Y: data_train_labels_hnd, keep_prob:0.7}\n",
    "    c, _ = sess.run([cost, optimizer], feed_dict=feed_dict)\n",
    "    if i % 100 == 0:\n",
    "        print('step: {0}, cost: {1}'.format(i, c))\n",
    "print('Learning Finished!')\n",
    "\n",
    "correct_prediction = tf.equal(tf.argmax(hypothesis, 1), tf.argmax(Y, 1))\n",
    "accuracy = tf.reduce_mean(tf.cast(correct_prediction, tf.float32))\n",
    "print('Accuracy:', sess.run(accuracy, feed_dict={\n",
    "      X: data_test_images_hnd, Y: data_test_labels_hnd, keep_prob: 1}))"
   ]
  },
  {
   "cell_type": "code",
   "execution_count": 29,
   "metadata": {},
   "outputs": [
    {
     "name": "stdout",
     "output_type": "stream",
     "text": [
      "Accuracy: 0.2102\n"
     ]
    }
   ],
   "source": [
    "correct_prediction = tf.equal(tf.argmax(hypothesis, 1), tf.argmax(Y, 1))\n",
    "accuracy = tf.reduce_mean(tf.cast(correct_prediction, tf.float32))\n",
    "print('Accuracy:', sess.run(accuracy, feed_dict={\n",
    "      X: mnist.test.images, Y: mnist.test.labels, keep_prob: 1}))\n"
   ]
  },
  {
   "cell_type": "code",
   "execution_count": 30,
   "metadata": {},
   "outputs": [
    {
     "name": "stdout",
     "output_type": "stream",
     "text": [
      "Accuracy: 0.4391892\n"
     ]
    }
   ],
   "source": [
    "correct_prediction = tf.equal(tf.argmax(hypothesis, 1), tf.argmax(Y, 1))\n",
    "accuracy = tf.reduce_mean(tf.cast(correct_prediction, tf.float32))\n",
    "print('Accuracy:', sess.run(accuracy, feed_dict={\n",
    "      X: data_test_images_real, Y: data_test_labels_real, keep_prob: 1}))\n"
   ]
  },
  {
   "cell_type": "markdown",
   "metadata": {},
   "source": [
    "# The model trained with mnist dataset"
   ]
  },
  {
   "cell_type": "code",
   "execution_count": 15,
   "metadata": {},
   "outputs": [
    {
     "name": "stdout",
     "output_type": "stream",
     "text": [
      "Epoch: 0001 cost = 0.656438541\n",
      "Epoch: 0002 cost = 0.236185142\n",
      "Epoch: 0003 cost = 0.171984848\n",
      "Epoch: 0004 cost = 0.139384079\n",
      "Epoch: 0005 cost = 0.119217401\n",
      "Epoch: 0006 cost = 0.107606449\n",
      "Epoch: 0007 cost = 0.094643766\n",
      "Epoch: 0008 cost = 0.088591053\n",
      "Epoch: 0009 cost = 0.078673688\n",
      "Epoch: 0010 cost = 0.071121083\n",
      "Epoch: 0011 cost = 0.067316908\n",
      "Epoch: 0012 cost = 0.062557119\n",
      "Epoch: 0013 cost = 0.061370156\n",
      "Epoch: 0014 cost = 0.055523415\n",
      "Epoch: 0015 cost = 0.051291360\n",
      "Learning Finished!\n",
      "Accuracy: 0.9804\n",
      "Label:  [9]\n",
      "Prediction:  [9]\n"
     ]
    }
   ],
   "source": [
    "#mnist dataset만으로 학습시킨 데이터\n",
    "\n",
    "tf.reset_default_graph()\n",
    "\n",
    "X = tf.placeholder(tf.float32, [None, 784])\n",
    "Y = tf.placeholder(tf.float32, [None, 10])\n",
    "keep_prob = tf.placeholder(tf.float32)\n",
    "\n",
    "W1 = tf.get_variable(\"W1\", shape= [784, 512],\n",
    "                     initializer= tf.contrib.layers.xavier_initializer())\n",
    "b1 = tf.Variable(tf.random_normal([512]))\n",
    "L1 = tf.nn.relu(tf.matmul(X, W1) + b1)\n",
    "L1 = tf.nn.dropout(L1, keep_prob = keep_prob)\n",
    "\n",
    "W2 = tf.get_variable(\"W2\", shape= [512, 256],\n",
    "                     initializer= tf.contrib.layers.xavier_initializer())\n",
    "b2 = tf.Variable(tf.random_normal([256]))\n",
    "L2 = tf.nn.relu(tf.matmul(L1, W2) + b2)\n",
    "L2 = tf.nn.dropout(L2, keep_prob= keep_prob)\n",
    "\n",
    "W3 = tf.get_variable(\"W3\", shape= [256, 128],\n",
    "                     initializer= tf.contrib.layers.xavier_initializer())\n",
    "b3 = tf.Variable(tf.random_normal([128]))\n",
    "L3 = tf.nn.relu(tf.matmul(L2, W3) + b3)\n",
    "L3 = tf.nn.dropout(L3, keep_prob= keep_prob)\n",
    "\n",
    "W4 = tf.get_variable(\"W4\" ,shape= [128, 64],\n",
    "                     initializer= tf.contrib.layers.xavier_initializer())\n",
    "b4 = tf.Variable(tf.random_normal([64]))\n",
    "L4 = tf.nn.relu(tf.matmul(L3, W4) + b4)\n",
    "L4 = tf.nn.dropout(L4, keep_prob= keep_prob)\n",
    "\n",
    "W5 = tf.get_variable(\"W5\" ,shape= [64, 10],\n",
    "                     initializer= tf.contrib.layers.xavier_initializer())\n",
    "b5 = tf.Variable(tf.random_normal([10]))\n",
    "hypothesis = tf.matmul(L4, W5) + b5\n",
    "\n",
    "cost = tf.reduce_mean(tf.nn.softmax_cross_entropy_with_logits(\n",
    "    logits=hypothesis, labels=Y))\n",
    "optimizer = tf.train.AdamOptimizer(learning_rate=learning_rate).minimize(cost)\n",
    "\n",
    "\n",
    "sess = tf.Session()\n",
    "sess.run(tf.global_variables_initializer())\n",
    "for epoch in range(training_epochs):\n",
    "    avg_cost = 0\n",
    "    total_batch = int(mnist.train.num_examples / batch_size)\n",
    "\n",
    "    for i in range(total_batch):\n",
    "        batch_xs, batch_ys = mnist.train.next_batch(batch_size)\n",
    "        feed_dict = {X: batch_xs, Y: batch_ys, keep_prob:0.7}\n",
    "        c, _ = sess.run([cost, optimizer], feed_dict=feed_dict)\n",
    "        avg_cost += c / total_batch\n",
    "\n",
    "    print('Epoch:', '%04d' % (epoch + 1), 'cost =', '{:.9f}'.format(avg_cost))\n",
    "\n",
    "print('Learning Finished!')\n",
    "\n",
    "# Test model and check accuracy\n",
    "correct_prediction = tf.equal(tf.argmax(hypothesis, 1), tf.argmax(Y, 1))\n",
    "accuracy = tf.reduce_mean(tf.cast(correct_prediction, tf.float32))\n",
    "print('Accuracy:', sess.run(accuracy, feed_dict={\n",
    "      X: mnist.test.images, Y: mnist.test.labels, keep_prob: 1}))\n",
    "\n",
    "# Get one and predict\n",
    "r = np.random.randint(0, mnist.test.num_examples - 1)\n",
    "print(\"Label: \", sess.run(tf.argmax(mnist.test.labels[r:r + 1], 1)))\n",
    "print(\"Prediction: \", sess.run(\n",
    "    tf.argmax(hypothesis, 1), feed_dict={X: mnist.test.images[r:r + 1], keep_prob: 1}))\n"
   ]
  },
  {
   "cell_type": "code",
   "execution_count": 16,
   "metadata": {},
   "outputs": [
    {
     "name": "stdout",
     "output_type": "stream",
     "text": [
      "Accuracy: 0.4\n"
     ]
    }
   ],
   "source": [
    "#test hand writing data and real images data\n",
    "\n",
    "correct_prediction = tf.equal(tf.argmax(hypothesis, 1), tf.argmax(Y, 1))\n",
    "accuracy = tf.reduce_mean(tf.cast(correct_prediction, tf.float32))\n",
    "print('Accuracy:', sess.run(accuracy, feed_dict={\n",
    "      X: data_test_images_hnd, Y: data_test_labels_hnd, keep_prob: 1}))\n"
   ]
  },
  {
   "cell_type": "code",
   "execution_count": 17,
   "metadata": {},
   "outputs": [
    {
     "name": "stdout",
     "output_type": "stream",
     "text": [
      "Accuracy: 0.3783784\n"
     ]
    }
   ],
   "source": [
    "\n",
    "correct_prediction = tf.equal(tf.argmax(hypothesis, 1), tf.argmax(Y, 1))\n",
    "accuracy = tf.reduce_mean(tf.cast(correct_prediction, tf.float32))\n",
    "print('Accuracy:', sess.run(accuracy, feed_dict={\n",
    "      X: data_test_images_real, Y: data_test_labels_real, keep_prob: 1}))\n"
   ]
  },
  {
   "cell_type": "markdown",
   "metadata": {},
   "source": [
    "# The model trained with real image dataset"
   ]
  },
  {
   "cell_type": "code",
   "execution_count": 32,
   "metadata": {},
   "outputs": [
    {
     "name": "stdout",
     "output_type": "stream",
     "text": [
      "step: 0, cost: 4.48777437210083\n",
      "step: 100, cost: 0.34043088555336\n",
      "step: 200, cost: 0.021645277738571167\n",
      "step: 300, cost: 0.015236204490065575\n",
      "step: 400, cost: 0.005572722293436527\n",
      "Learning Finished!\n",
      "Accuracy: 0.8243243\n"
     ]
    }
   ],
   "source": [
    "#real image dataset 으로 학습시킨 데이터\n",
    "\n",
    "tf.reset_default_graph()\n",
    "\n",
    "X = tf.placeholder(tf.float32, [None, 784])\n",
    "Y = tf.placeholder(tf.int8, [None, 10])\n",
    "keep_prob = tf.placeholder(tf.float32)\n",
    "\n",
    "W1 = tf.get_variable(\"W1\", shape= [784, 512],\n",
    "                     initializer= tf.contrib.layers.xavier_initializer())\n",
    "b1 = tf.Variable(tf.random_normal([512]))\n",
    "L1 = tf.nn.relu(tf.matmul(X, W1) + b1)\n",
    "L1 = tf.nn.dropout(L1, keep_prob = keep_prob)\n",
    "\n",
    "W2 = tf.get_variable(\"W2\", shape= [512, 256],\n",
    "                     initializer= tf.contrib.layers.xavier_initializer())\n",
    "b2 = tf.Variable(tf.random_normal([256]))\n",
    "L2 = tf.nn.relu(tf.matmul(L1, W2) + b2)\n",
    "L2 = tf.nn.dropout(L2, keep_prob= keep_prob)\n",
    "\n",
    "W3 = tf.get_variable(\"W3\", shape= [256, 128],\n",
    "                     initializer= tf.contrib.layers.xavier_initializer())\n",
    "b3 = tf.Variable(tf.random_normal([128]))\n",
    "L3 = tf.nn.relu(tf.matmul(L2, W3) + b3)\n",
    "L3 = tf.nn.dropout(L3, keep_prob= keep_prob)\n",
    "\n",
    "W4 = tf.get_variable(\"W4\" ,shape= [128, 64],\n",
    "                     initializer= tf.contrib.layers.xavier_initializer())\n",
    "b4 = tf.Variable(tf.random_normal([64]))\n",
    "L4 = tf.nn.relu(tf.matmul(L3, W4) + b4)\n",
    "L4 = tf.nn.dropout(L4, keep_prob= keep_prob)\n",
    "\n",
    "W5 = tf.get_variable(\"W5\" ,shape= [64, 10],\n",
    "                     initializer= tf.contrib.layers.xavier_initializer())\n",
    "b5 = tf.Variable(tf.random_normal([10]))\n",
    "hypothesis = tf.matmul(L4, W5) + b5\n",
    "\n",
    "cost = tf.reduce_mean(tf.nn.softmax_cross_entropy_with_logits(\n",
    "    logits=hypothesis, labels=Y))\n",
    "optimizer = tf.train.AdamOptimizer(learning_rate=learning_rate).minimize(cost)\n",
    "\n",
    "sess = tf.Session()\n",
    "sess.run(tf.global_variables_initializer())\n",
    "\n",
    "for i in range(len(real_train)):\n",
    "    feed_dict = {X: data_train_images_real, Y: data_train_labels_real, keep_prob:0.7}\n",
    "    c, _ = sess.run([cost, optimizer], feed_dict=feed_dict)\n",
    "    if i % 100 == 0:\n",
    "        print('step: {0}, cost: {1}'.format(i, c))\n",
    "print('Learning Finished!')\n",
    "\n",
    "correct_prediction = tf.equal(tf.argmax(hypothesis, 1), tf.argmax(Y, 1))\n",
    "accuracy = tf.reduce_mean(tf.cast(correct_prediction, tf.float32))\n",
    "print('Accuracy:', sess.run(accuracy, feed_dict={\n",
    "      X: data_test_images_real, Y: data_test_labels_real, keep_prob: 1}))\n"
   ]
  },
  {
   "cell_type": "code",
   "execution_count": 33,
   "metadata": {},
   "outputs": [
    {
     "name": "stdout",
     "output_type": "stream",
     "text": [
      "Accuracy: 0.23\n"
     ]
    }
   ],
   "source": [
    "#mnist 와 hand writing data 로 학습데이터 테스트\n",
    "correct_prediction = tf.equal(tf.argmax(hypothesis, 1), tf.argmax(Y, 1))\n",
    "accuracy = tf.reduce_mean(tf.cast(correct_prediction, tf.float32))\n",
    "print('Accuracy:', sess.run(accuracy, feed_dict={\n",
    "      X: mnist.test.images, Y: mnist.test.labels, keep_prob: 1}))\n"
   ]
  },
  {
   "cell_type": "code",
   "execution_count": 34,
   "metadata": {},
   "outputs": [
    {
     "name": "stdout",
     "output_type": "stream",
     "text": [
      "Accuracy: 0.6181818\n"
     ]
    }
   ],
   "source": [
    "correct_prediction = tf.equal(tf.argmax(hypothesis, 1), tf.argmax(Y, 1))\n",
    "accuracy = tf.reduce_mean(tf.cast(correct_prediction, tf.float32))\n",
    "print('Accuracy:', sess.run(accuracy, feed_dict={\n",
    "      X: data_test_images_hnd, Y: data_test_labels_hnd, keep_prob: 1}))\n"
   ]
  },
  {
   "cell_type": "markdown",
   "metadata": {},
   "source": [
    "# The model trained with all dataset"
   ]
  },
  {
   "cell_type": "code",
   "execution_count": 21,
   "metadata": {},
   "outputs": [
    {
     "name": "stdout",
     "output_type": "stream",
     "text": [
      "Epoch: 0001 cost = 0.675410449\n",
      "Epoch: 0002 cost = 0.228526456\n",
      "Epoch: 0003 cost = 0.173301365\n",
      "Epoch: 0004 cost = 0.137239344\n",
      "Epoch: 0005 cost = 0.119886233\n",
      "Epoch: 0006 cost = 0.103147588\n",
      "Epoch: 0007 cost = 0.091768273\n",
      "Epoch: 0008 cost = 0.080930068\n",
      "Epoch: 0009 cost = 0.077476237\n",
      "Epoch: 0010 cost = 0.072503127\n",
      "Epoch: 0011 cost = 0.067268184\n",
      "Epoch: 0012 cost = 0.058945879\n",
      "Epoch: 0013 cost = 0.058078160\n",
      "Epoch: 0014 cost = 0.055456169\n",
      "Epoch: 0015 cost = 0.050322427\n",
      "hand writing step: 0, cost: 7.300313949584961\n",
      "hand writing step: 100, cost: 0.0105508454144001\n",
      "hand writing step: 200, cost: 0.006833203602582216\n",
      "hand writing step: 300, cost: 0.002494679531082511\n",
      "hand writing step: 400, cost: 0.0004339423030614853\n",
      "real image step: 0, cost: 12.111218452453613\n",
      "real image step: 100, cost: 0.1381896585226059\n",
      "real image step: 200, cost: 0.06627186387777328\n",
      "real image step: 300, cost: 0.006897913292050362\n",
      "real image step: 400, cost: 0.018273666501045227\n",
      "Learning Finished!\n",
      "Accuracy: 0.7215\n",
      "Accuracy: 0.8090909\n",
      "Accuracy: 0.8783784\n"
     ]
    }
   ],
   "source": [
    "tf.reset_default_graph()\n",
    "\n",
    "X = tf.placeholder(tf.float32, [None, 784])\n",
    "Y = tf.placeholder(tf.int8, [None, 10])\n",
    "keep_prob = tf.placeholder(tf.float32)\n",
    "\n",
    "W1 = tf.get_variable(\"W1\", shape= [784, 512],\n",
    "                     initializer= tf.contrib.layers.xavier_initializer())\n",
    "b1 = tf.Variable(tf.random_normal([512]))\n",
    "L1 = tf.nn.relu(tf.matmul(X, W1) + b1)\n",
    "L1 = tf.nn.dropout(L1, keep_prob = keep_prob)\n",
    "\n",
    "W2 = tf.get_variable(\"W2\", shape= [512, 256],\n",
    "                     initializer= tf.contrib.layers.xavier_initializer())\n",
    "b2 = tf.Variable(tf.random_normal([256]))\n",
    "L2 = tf.nn.relu(tf.matmul(L1, W2) + b2)\n",
    "L2 = tf.nn.dropout(L2, keep_prob= keep_prob)\n",
    "\n",
    "W3 = tf.get_variable(\"W3\", shape= [256, 128],\n",
    "                     initializer= tf.contrib.layers.xavier_initializer())\n",
    "b3 = tf.Variable(tf.random_normal([128]))\n",
    "L3 = tf.nn.relu(tf.matmul(L2, W3) + b3)\n",
    "L3 = tf.nn.dropout(L3, keep_prob= keep_prob)\n",
    "\n",
    "W4 = tf.get_variable(\"W4\" ,shape= [128, 64],\n",
    "                     initializer= tf.contrib.layers.xavier_initializer())\n",
    "b4 = tf.Variable(tf.random_normal([64]))\n",
    "L4 = tf.nn.relu(tf.matmul(L3, W4) + b4)\n",
    "L4 = tf.nn.dropout(L4, keep_prob= keep_prob)\n",
    "\n",
    "W5 = tf.get_variable(\"W5\" ,shape= [64, 10],\n",
    "                     initializer= tf.contrib.layers.xavier_initializer())\n",
    "b5 = tf.Variable(tf.random_normal([10]))\n",
    "hypothesis = tf.matmul(L4, W5) + b5\n",
    "\n",
    "cost = tf.reduce_mean(tf.nn.softmax_cross_entropy_with_logits(\n",
    "    logits=hypothesis, labels=Y))\n",
    "optimizer = tf.train.AdamOptimizer(learning_rate=learning_rate).minimize(cost)\n",
    "\n",
    "sess = tf.Session()\n",
    "sess.run(tf.global_variables_initializer())\n",
    "\n",
    "\n",
    "for epoch in range(training_epochs):\n",
    "    avg_cost = 0\n",
    "    total_batch = int(mnist.train.num_examples / batch_size)\n",
    "\n",
    "    for i in range(total_batch):\n",
    "        batch_xs, batch_ys = mnist.train.next_batch(batch_size)\n",
    "        feed_dict = {X: batch_xs, Y: batch_ys, keep_prob:0.7}\n",
    "        c, _ = sess.run([cost, optimizer], feed_dict=feed_dict)\n",
    "        avg_cost += c / total_batch\n",
    "    print('Epoch:', '%04d' % (epoch + 1), 'cost =', '{:.9f}'.format(avg_cost))\n",
    "\n",
    "for i in range(len(hnd_train)):\n",
    "    feed_dict = {X: data_train_images_hnd, Y: data_train_labels_hnd, keep_prob:0.7}\n",
    "    c, _ = sess.run([cost, optimizer], feed_dict=feed_dict)\n",
    "    if i % 100 == 0:\n",
    "        print('hand writing step: {0}, cost: {1}'.format(i, c))\n",
    "        \n",
    "for i in range(len(real_train)):\n",
    "    feed_dict = {X: data_train_images_real, Y: data_train_labels_real, keep_prob:0.7}\n",
    "    c, _ = sess.run([cost, optimizer], feed_dict=feed_dict)\n",
    "    if i % 100 == 0:\n",
    "        print('real image step: {0}, cost: {1}'.format(i, c))\n",
    "        \n",
    "        \n",
    "print('Learning Finished!')\n",
    "\n",
    "correct_prediction = tf.equal(tf.argmax(hypothesis, 1), tf.argmax(Y, 1))\n",
    "accuracy = tf.reduce_mean(tf.cast(correct_prediction, tf.float32))\n",
    "print('Accuracy:', sess.run(accuracy, feed_dict={\n",
    "      X: mnist.test.images, Y: mnist.test.labels, keep_prob: 1}))\n",
    "\n",
    "correct_prediction = tf.equal(tf.argmax(hypothesis, 1), tf.argmax(Y, 1))\n",
    "accuracy = tf.reduce_mean(tf.cast(correct_prediction, tf.float32))\n",
    "print('Accuracy:', sess.run(accuracy, feed_dict={\n",
    "      X: data_test_images_hnd, Y: data_test_labels_hnd, keep_prob: 1}))\n",
    "\n",
    "correct_prediction = tf.equal(tf.argmax(hypothesis, 1), tf.argmax(Y, 1))\n",
    "accuracy = tf.reduce_mean(tf.cast(correct_prediction, tf.float32))\n",
    "print('Accuracy:', sess.run(accuracy, feed_dict={\n",
    "      X: data_test_images_real, Y: data_test_labels_real, keep_prob: 1}))\n",
    "\n"
   ]
  },
  {
   "cell_type": "markdown",
   "metadata": {},
   "source": [
    "# The model trained with mnist, hand dateset"
   ]
  },
  {
   "cell_type": "code",
   "execution_count": 22,
   "metadata": {},
   "outputs": [
    {
     "name": "stdout",
     "output_type": "stream",
     "text": [
      "Epoch: 0001 cost = 0.625789662\n",
      "Epoch: 0002 cost = 0.222770260\n",
      "Epoch: 0003 cost = 0.167252021\n",
      "Epoch: 0004 cost = 0.136080719\n",
      "Epoch: 0005 cost = 0.116599096\n",
      "Epoch: 0006 cost = 0.102926976\n",
      "Epoch: 0007 cost = 0.089039868\n",
      "Epoch: 0008 cost = 0.084224086\n",
      "Epoch: 0009 cost = 0.072579885\n",
      "Epoch: 0010 cost = 0.068545061\n",
      "Epoch: 0011 cost = 0.060173794\n",
      "Epoch: 0012 cost = 0.058822827\n",
      "Epoch: 0013 cost = 0.056794250\n",
      "Epoch: 0014 cost = 0.052918267\n",
      "Epoch: 0015 cost = 0.050963464\n",
      "hand writing step: 0, cost: 6.069091320037842\n",
      "hand writing step: 100, cost: 0.01204571034759283\n",
      "hand writing step: 200, cost: 0.0018487004563212395\n",
      "hand writing step: 300, cost: 0.005085427779704332\n",
      "hand writing step: 400, cost: 0.0028450593817979097\n",
      "Learning Finished!\n",
      "Accuracy: 0.7583\n",
      "Accuracy: 0.93636364\n"
     ]
    }
   ],
   "source": [
    "tf.reset_default_graph()\n",
    "\n",
    "X = tf.placeholder(tf.float32, [None, 784])\n",
    "Y = tf.placeholder(tf.int8, [None, 10])\n",
    "keep_prob = tf.placeholder(tf.float32)\n",
    "\n",
    "W1 = tf.get_variable(\"W1\", shape= [784, 512],\n",
    "                     initializer= tf.contrib.layers.xavier_initializer())\n",
    "b1 = tf.Variable(tf.random_normal([512]))\n",
    "L1 = tf.nn.relu(tf.matmul(X, W1) + b1)\n",
    "L1 = tf.nn.dropout(L1, keep_prob = keep_prob)\n",
    "\n",
    "W2 = tf.get_variable(\"W2\", shape= [512, 256],\n",
    "                     initializer= tf.contrib.layers.xavier_initializer())\n",
    "b2 = tf.Variable(tf.random_normal([256]))\n",
    "L2 = tf.nn.relu(tf.matmul(L1, W2) + b2)\n",
    "L2 = tf.nn.dropout(L2, keep_prob= keep_prob)\n",
    "\n",
    "W3 = tf.get_variable(\"W3\", shape= [256, 128],\n",
    "                     initializer= tf.contrib.layers.xavier_initializer())\n",
    "b3 = tf.Variable(tf.random_normal([128]))\n",
    "L3 = tf.nn.relu(tf.matmul(L2, W3) + b3)\n",
    "L3 = tf.nn.dropout(L3, keep_prob= keep_prob)\n",
    "\n",
    "W4 = tf.get_variable(\"W4\" ,shape= [128, 64],\n",
    "                     initializer= tf.contrib.layers.xavier_initializer())\n",
    "b4 = tf.Variable(tf.random_normal([64]))\n",
    "L4 = tf.nn.relu(tf.matmul(L3, W4) + b4)\n",
    "L4 = tf.nn.dropout(L4, keep_prob= keep_prob)\n",
    "\n",
    "W5 = tf.get_variable(\"W5\" ,shape= [64, 10],\n",
    "                     initializer= tf.contrib.layers.xavier_initializer())\n",
    "b5 = tf.Variable(tf.random_normal([10]))\n",
    "hypothesis = tf.matmul(L4, W5) + b5\n",
    "\n",
    "cost = tf.reduce_mean(tf.nn.softmax_cross_entropy_with_logits(\n",
    "    logits=hypothesis, labels=Y))\n",
    "optimizer = tf.train.AdamOptimizer(learning_rate=learning_rate).minimize(cost)\n",
    "\n",
    "sess = tf.Session()\n",
    "sess.run(tf.global_variables_initializer())\n",
    "\n",
    "\n",
    "for epoch in range(training_epochs):\n",
    "    avg_cost = 0\n",
    "    total_batch = int(mnist.train.num_examples / batch_size)\n",
    "\n",
    "    for i in range(total_batch):\n",
    "        batch_xs, batch_ys = mnist.train.next_batch(batch_size)\n",
    "        feed_dict = {X: batch_xs, Y: batch_ys, keep_prob:0.7}\n",
    "        c, _ = sess.run([cost, optimizer], feed_dict=feed_dict)\n",
    "        avg_cost += c / total_batch\n",
    "    print('Epoch:', '%04d' % (epoch + 1), 'cost =', '{:.9f}'.format(avg_cost))\n",
    "\n",
    "for i in range(len(hnd_train)):\n",
    "    feed_dict = {X: data_train_images_hnd, Y: data_train_labels_hnd, keep_prob:0.7}\n",
    "    c, _ = sess.run([cost, optimizer], feed_dict=feed_dict)\n",
    "    if i % 100 == 0:\n",
    "        print('hand writing step: {0}, cost: {1}'.format(i, c))\n",
    "        \n",
    "print('Learning Finished!')\n",
    "\n",
    "correct_prediction = tf.equal(tf.argmax(hypothesis, 1), tf.argmax(Y, 1))\n",
    "accuracy = tf.reduce_mean(tf.cast(correct_prediction, tf.float32))\n",
    "print('Accuracy:', sess.run(accuracy, feed_dict={\n",
    "      X: mnist.test.images, Y: mnist.test.labels, keep_prob: 1}))\n",
    "\n",
    "correct_prediction = tf.equal(tf.argmax(hypothesis, 1), tf.argmax(Y, 1))\n",
    "accuracy = tf.reduce_mean(tf.cast(correct_prediction, tf.float32))\n",
    "print('Accuracy:', sess.run(accuracy, feed_dict={\n",
    "      X: data_test_images_hnd, Y: data_test_labels_hnd, keep_prob: 1}))\n",
    "\n"
   ]
  },
  {
   "cell_type": "markdown",
   "metadata": {},
   "source": [
    "# The model trained with mnist, real dataset"
   ]
  },
  {
   "cell_type": "code",
   "execution_count": 23,
   "metadata": {},
   "outputs": [
    {
     "name": "stdout",
     "output_type": "stream",
     "text": [
      "Epoch: 0001 cost = 0.669421206\n",
      "Epoch: 0002 cost = 0.231278737\n",
      "Epoch: 0003 cost = 0.168394644\n",
      "Epoch: 0004 cost = 0.140194413\n",
      "Epoch: 0005 cost = 0.114275611\n",
      "Epoch: 0006 cost = 0.101400622\n",
      "Epoch: 0007 cost = 0.091687169\n",
      "Epoch: 0008 cost = 0.079398917\n",
      "Epoch: 0009 cost = 0.075927305\n",
      "Epoch: 0010 cost = 0.066257798\n",
      "Epoch: 0011 cost = 0.065783447\n",
      "Epoch: 0012 cost = 0.062731737\n",
      "Epoch: 0013 cost = 0.055429863\n",
      "Epoch: 0014 cost = 0.053476608\n",
      "Epoch: 0015 cost = 0.050976418\n",
      "real image step: 0, cost: 8.866402626037598\n",
      "real image step: 100, cost: 0.017531603574752808\n",
      "real image step: 200, cost: 0.007219364400953054\n",
      "real image step: 300, cost: 0.003533955430611968\n",
      "real image step: 400, cost: 0.003851620713248849\n",
      "Learning Finished!\n",
      "Accuracy: 0.852\n",
      "Accuracy: 0.8581081\n"
     ]
    }
   ],
   "source": [
    "tf.reset_default_graph()\n",
    "\n",
    "X = tf.placeholder(tf.float32, [None, 784])\n",
    "Y = tf.placeholder(tf.int8, [None, 10])\n",
    "keep_prob = tf.placeholder(tf.float32)\n",
    "\n",
    "W1 = tf.get_variable(\"W1\", shape= [784, 512],\n",
    "                     initializer= tf.contrib.layers.xavier_initializer())\n",
    "b1 = tf.Variable(tf.random_normal([512]))\n",
    "L1 = tf.nn.relu(tf.matmul(X, W1) + b1)\n",
    "L1 = tf.nn.dropout(L1, keep_prob = keep_prob)\n",
    "\n",
    "W2 = tf.get_variable(\"W2\", shape= [512, 256],\n",
    "                     initializer= tf.contrib.layers.xavier_initializer())\n",
    "b2 = tf.Variable(tf.random_normal([256]))\n",
    "L2 = tf.nn.relu(tf.matmul(L1, W2) + b2)\n",
    "L2 = tf.nn.dropout(L2, keep_prob= keep_prob)\n",
    "\n",
    "W3 = tf.get_variable(\"W3\", shape= [256, 128],\n",
    "                     initializer= tf.contrib.layers.xavier_initializer())\n",
    "b3 = tf.Variable(tf.random_normal([128]))\n",
    "L3 = tf.nn.relu(tf.matmul(L2, W3) + b3)\n",
    "L3 = tf.nn.dropout(L3, keep_prob= keep_prob)\n",
    "\n",
    "W4 = tf.get_variable(\"W4\" ,shape= [128, 64],\n",
    "                     initializer= tf.contrib.layers.xavier_initializer())\n",
    "b4 = tf.Variable(tf.random_normal([64]))\n",
    "L4 = tf.nn.relu(tf.matmul(L3, W4) + b4)\n",
    "L4 = tf.nn.dropout(L4, keep_prob= keep_prob)\n",
    "\n",
    "W5 = tf.get_variable(\"W5\" ,shape= [64, 10],\n",
    "                     initializer= tf.contrib.layers.xavier_initializer())\n",
    "b5 = tf.Variable(tf.random_normal([10]))\n",
    "hypothesis = tf.matmul(L4, W5) + b5\n",
    "\n",
    "cost = tf.reduce_mean(tf.nn.softmax_cross_entropy_with_logits(\n",
    "    logits=hypothesis, labels=Y))\n",
    "optimizer = tf.train.AdamOptimizer(learning_rate=learning_rate).minimize(cost)\n",
    "\n",
    "sess = tf.Session()\n",
    "sess.run(tf.global_variables_initializer())\n",
    "\n",
    "\n",
    "for epoch in range(training_epochs):\n",
    "    avg_cost = 0\n",
    "    total_batch = int(mnist.train.num_examples / batch_size)\n",
    "\n",
    "    for i in range(total_batch):\n",
    "        batch_xs, batch_ys = mnist.train.next_batch(batch_size)\n",
    "        feed_dict = {X: batch_xs, Y: batch_ys, keep_prob:0.7}\n",
    "        c, _ = sess.run([cost, optimizer], feed_dict=feed_dict)\n",
    "        avg_cost += c / total_batch\n",
    "    print('Epoch:', '%04d' % (epoch + 1), 'cost =', '{:.9f}'.format(avg_cost))\n",
    "        \n",
    "for i in range(len(real_train)):\n",
    "    feed_dict = {X: data_train_images_real, Y: data_train_labels_real, keep_prob:0.8}\n",
    "    c, _ = sess.run([cost, optimizer], feed_dict=feed_dict)\n",
    "    if i % 100 == 0:\n",
    "        print('real image step: {0}, cost: {1}'.format(i, c))\n",
    "        \n",
    "        \n",
    "print('Learning Finished!')\n",
    "\n",
    "correct_prediction = tf.equal(tf.argmax(hypothesis, 1), tf.argmax(Y, 1))\n",
    "accuracy = tf.reduce_mean(tf.cast(correct_prediction, tf.float32))\n",
    "print('Accuracy:', sess.run(accuracy, feed_dict={\n",
    "      X: mnist.test.images, Y: mnist.test.labels, keep_prob: 1}))\n",
    "\n",
    "correct_prediction = tf.equal(tf.argmax(hypothesis, 1), tf.argmax(Y, 1))\n",
    "accuracy = tf.reduce_mean(tf.cast(correct_prediction, tf.float32))\n",
    "print('Accuracy:', sess.run(accuracy, feed_dict={\n",
    "      X: data_test_images_real, Y: data_test_labels_real, keep_prob: 1}))\n",
    "\n"
   ]
  },
  {
   "cell_type": "markdown",
   "metadata": {},
   "source": [
    "# The model trained with real, hand dataset"
   ]
  },
  {
   "cell_type": "code",
   "execution_count": 38,
   "metadata": {},
   "outputs": [
    {
     "name": "stdout",
     "output_type": "stream",
     "text": [
      "hand writing step: 0, cost: 4.675471782684326\n",
      "hand writing step: 100, cost: 0.03708893060684204\n",
      "hand writing step: 200, cost: 0.007986089214682579\n",
      "hand writing step: 300, cost: 0.0028995703905820847\n",
      "hand writing step: 400, cost: 0.0028997340705245733\n",
      "real image step: 0, cost: 12.022271156311035\n",
      "real image step: 100, cost: 0.11180675029754639\n",
      "real image step: 200, cost: 0.039071545004844666\n",
      "real image step: 300, cost: 0.014362362213432789\n",
      "real image step: 400, cost: 0.008015769533813\n",
      "Accuracy: 0.7181818\n",
      "Accuracy: 0.8445946\n"
     ]
    }
   ],
   "source": [
    "tf.reset_default_graph()\n",
    "\n",
    "X = tf.placeholder(tf.float32, [None, 784])\n",
    "Y = tf.placeholder(tf.int8, [None, 10])\n",
    "keep_prob = tf.placeholder(tf.float32)\n",
    "\n",
    "W1 = tf.get_variable(\"W1\", shape= [784, 512],\n",
    "                     initializer= tf.contrib.layers.xavier_initializer())\n",
    "b1 = tf.Variable(tf.random_normal([512]))\n",
    "L1 = tf.nn.relu(tf.matmul(X, W1) + b1)\n",
    "L1 = tf.nn.dropout(L1, keep_prob = keep_prob)\n",
    "\n",
    "W2 = tf.get_variable(\"W2\", shape= [512, 256],\n",
    "                     initializer= tf.contrib.layers.xavier_initializer())\n",
    "b2 = tf.Variable(tf.random_normal([256]))\n",
    "L2 = tf.nn.relu(tf.matmul(L1, W2) + b2)\n",
    "L2 = tf.nn.dropout(L2, keep_prob= keep_prob)\n",
    "\n",
    "W3 = tf.get_variable(\"W3\", shape= [256, 128],\n",
    "                     initializer= tf.contrib.layers.xavier_initializer())\n",
    "b3 = tf.Variable(tf.random_normal([128]))\n",
    "L3 = tf.nn.relu(tf.matmul(L2, W3) + b3)\n",
    "L3 = tf.nn.dropout(L3, keep_prob= keep_prob)\n",
    "\n",
    "W4 = tf.get_variable(\"W4\" ,shape= [128, 64],\n",
    "                     initializer= tf.contrib.layers.xavier_initializer())\n",
    "b4 = tf.Variable(tf.random_normal([64]))\n",
    "L4 = tf.nn.relu(tf.matmul(L3, W4) + b4)\n",
    "L4 = tf.nn.dropout(L4, keep_prob= keep_prob)\n",
    "\n",
    "W5 = tf.get_variable(\"W5\" ,shape= [64, 10],\n",
    "                     initializer= tf.contrib.layers.xavier_initializer())\n",
    "b5 = tf.Variable(tf.random_normal([10]))\n",
    "hypothesis = tf.matmul(L4, W5) + b5\n",
    "\n",
    "cost = tf.reduce_mean(tf.nn.softmax_cross_entropy_with_logits(\n",
    "    logits=hypothesis, labels=Y))\n",
    "optimizer = tf.train.AdamOptimizer(learning_rate=learning_rate).minimize(cost)\n",
    "\n",
    "sess = tf.Session()\n",
    "sess.run(tf.global_variables_initializer())\n",
    "\n",
    "\n",
    "for i in range(len(hnd_train)):\n",
    "    feed_dict = {X: data_train_images_hnd, Y: data_train_labels_hnd, keep_prob:0.7}\n",
    "    c, _ = sess.run([cost, optimizer], feed_dict=feed_dict)\n",
    "    if i % 100 == 0:\n",
    "        print('hand writing step: {0}, cost: {1}'.format(i, c))\n",
    "        \n",
    "for i in range(len(real_train)):\n",
    "    feed_dict = {X: data_train_images_real, Y: data_train_labels_real, keep_prob:0.7}\n",
    "    c, _ = sess.run([cost, optimizer], feed_dict=feed_dict)\n",
    "    if i % 100 == 0:\n",
    "        print('real image step: {0}, cost: {1}'.format(i, c))\n",
    "        \n",
    "        \n",
    "correct_prediction = tf.equal(tf.argmax(hypothesis, 1), tf.argmax(Y, 1))\n",
    "accuracy = tf.reduce_mean(tf.cast(correct_prediction, tf.float32))\n",
    "print('Accuracy:', sess.run(accuracy, feed_dict={\n",
    "      X: data_test_images_hnd, Y: data_test_labels_hnd, keep_prob: 1}))\n",
    "\n",
    "correct_prediction = tf.equal(tf.argmax(hypothesis, 1), tf.argmax(Y, 1))\n",
    "accuracy = tf.reduce_mean(tf.cast(correct_prediction, tf.float32))\n",
    "print('Accuracy:', sess.run(accuracy, feed_dict={\n",
    "      X: data_test_images_real, Y: data_test_labels_real, keep_prob: 1}))\n",
    "\n"
   ]
  },
  {
   "cell_type": "code",
   "execution_count": null,
   "metadata": {},
   "outputs": [],
   "source": []
  }
 ],
 "metadata": {
  "kernelspec": {
   "display_name": "Python 3",
   "language": "python",
   "name": "python3"
  },
  "language_info": {
   "codemirror_mode": {
    "name": "ipython",
    "version": 3
   },
   "file_extension": ".py",
   "mimetype": "text/x-python",
   "name": "python",
   "nbconvert_exporter": "python",
   "pygments_lexer": "ipython3",
   "version": "3.6.4"
  }
 },
 "nbformat": 4,
 "nbformat_minor": 2
}
